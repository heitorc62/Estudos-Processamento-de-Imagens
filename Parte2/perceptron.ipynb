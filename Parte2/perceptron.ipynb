{
 "cells": [
  {
   "cell_type": "code",
   "execution_count": 66,
   "metadata": {},
   "outputs": [],
   "source": [
    "import numpy as np\n",
    "import matplotlib.pyplot as plt"
   ]
  },
  {
   "cell_type": "code",
   "execution_count": 67,
   "metadata": {},
   "outputs": [],
   "source": [
    "x1 = np.asarray([1, 10, 60])\n",
    "y1 = 1\n",
    "x2 = np.asarray([1, 20, 40])\n",
    "y2 = 1\n",
    "x3 = np.asarray([1, 30, 40])\n",
    "y3 = 1\n",
    "x4 = np.asarray([1, 40, 100])\n",
    "y4 = -1\n",
    "\n",
    "w = [10, 2, 4]\n",
    "data = [[x1, y1], [x2, y2], [x3, y3], [x4, y4]]\n"
   ]
  },
  {
   "cell_type": "code",
   "execution_count": 68,
   "metadata": {},
   "outputs": [],
   "source": [
    "quebrou = True\n",
    "cont = 0\n",
    "#print(f\"w_{cont} = {w}\")\n",
    "while(quebrou):\n",
    "    for i in range(0,4):\n",
    "        if(data[i][1] != np.sign(np.dot(w, data[i][0]))):\n",
    "            cont += 1\n",
    "            w = w + data[i][1]*data[i][0]\n",
    "            #print(f\"w_{cont} = {w}\")\n",
    "            quebrou = True\n",
    "            break\n",
    "        quebrou = False\n",
    "        "
   ]
  },
  {
   "cell_type": "code",
   "execution_count": 69,
   "metadata": {},
   "outputs": [
    {
     "data": {
      "text/plain": [
       "array([3481, -148,   24])"
      ]
     },
     "execution_count": 69,
     "metadata": {},
     "output_type": "execute_result"
    }
   ],
   "source": [
    "w"
   ]
  },
  {
   "cell_type": "markdown",
   "metadata": {},
   "source": [
    "* Após obter o valor do vetor dos pesos ($w$), note que temos um plano que divide esses valores linearmente separaveis.\n",
    "\n",
    "* Nesse sentido, podemos representar a interesecção desse plano com o plano $Oxy$ $(z = 0)$.\n",
    "\n",
    "* Disso, temos:\n",
    "\n",
    "$$w = \\begin{bmatrix}\n",
    "3481 & -148 & 24\n",
    "\\end{bmatrix}$$\n",
    "\n",
    "$$\\begin{cases}\n",
    "z = 0 \\\\\n",
    "z = 3481 - 148x + 24y\n",
    "\\end{cases} \\Rightarrow \n",
    "\\\\[10pt]\n",
    "\\Rightarrow y = \\dfrac{148}{24}x - \\dfrac{3481}{24}$$\n",
    "\n"
   ]
  },
  {
   "cell_type": "code",
   "execution_count": 70,
   "metadata": {},
   "outputs": [
    {
     "data": {
      "image/png": "[encoded data removed]",
      "text/plain": [
       "<Figure size 432x288 with 1 Axes>"
      ]
     },
     "metadata": {
      "needs_background": "light"
     },
     "output_type": "display_data"
    }
   ],
   "source": [
    "fig = plt.figure()\n",
    "ax = fig.add_subplot(1, 1, 1)\n",
    "x = np.linspace(0, 60, 100)\n",
    "plt.plot(x, (148/24)*x - (3481/24), '-r')\n",
    "plt.plot(10, 60, \"-o\")\n",
    "plt.plot(20, 40, \"-o\")\n",
    "plt.plot(30, 40, \"-o\")\n",
    "plt.plot(40, 100, \"-x\", color = \"black\")\n",
    "plt.show()"
   ]
  }
 ],
 "metadata": {
  "interpreter": {
   "hash": "e33d3a24d0749a92d9b1f1adc81b936d0e12ce6f29210ff8962f395cb2360093"
  },
  "kernelspec": {
   "display_name": "Python 3.8.8 ('base')",
   "language": "python",
   "name": "python3"
  },
  "language_info": {
   "codemirror_mode": {
    "name": "ipython",
    "version": 3
   },
   "file_extension": ".py",
   "mimetype": "text/x-python",
   "name": "python",
   "nbconvert_exporter": "python",
   "pygments_lexer": "ipython3",
   "version": "3.8.8"
  },
  "orig_nbformat": 4
 },
 "nbformat": 4,
 "nbformat_minor": 2
}
