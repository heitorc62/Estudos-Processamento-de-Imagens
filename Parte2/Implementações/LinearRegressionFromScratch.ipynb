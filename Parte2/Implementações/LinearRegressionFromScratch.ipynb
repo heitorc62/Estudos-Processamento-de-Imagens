{
  "nbformat": 4,
  "nbformat_minor": 0,
  "metadata": {
    "colab": {
      "provenance": []
    },
    "kernelspec": {
      "name": "python3",
      "display_name": "Python 3"
    },
    "language_info": {
      "name": "python"
    }
  },
  "cells": [
    {
      "cell_type": "markdown",
      "source": [
        "# **Regressão Linear from Scratch**\n",
        "#### **Heitor Barroso Cavalcante**"
      ],
      "metadata": {
        "id": "rTL0PpRS8XqN"
      }
    },
    {
      "cell_type": "markdown",
      "source": [
        "## **Bibliotecas Utilizadas**"
      ],
      "metadata": {
        "id": "LMy1v6I99M_Z"
      }
    },
    {
      "cell_type": "markdown",
      "source": [
        "Nesse projeto, utilizei a biblioteca Numpy para manipulações e operações entre vetores, Pandas para tratamento dos dados envolvidos e MatplotLib para visualizações."
      ],
      "metadata": {
        "id": "Ws0qjAtb-w19"
      }
    },
    {
      "cell_type": "code",
      "execution_count": null,
      "metadata": {
        "id": "4c1bOkdKZp8m"
      },
      "outputs": [],
      "source": [
        "import pandas as pd\n",
        "import matplotlib.pyplot as plt\n",
        "import numpy as np\n",
        "\n",
        "data = pd.read_csv('/content/drive/MyDrive/Colab Notebooks/IC/Precos_de_imoveis/housing.csv')"
      ]
    },
    {
      "cell_type": "markdown",
      "source": [
        "Os dados importados estão em formato de tabela, com 47 linhas e 3 colunas:"
      ],
      "metadata": {
        "id": "S5GdT20zAH5P"
      }
    },
    {
      "cell_type": "code",
      "source": [
        "data.shape"
      ],
      "metadata": {
        "colab": {
          "base_uri": "https://localhost:8080/"
        },
        "id": "oOnckEdngHWu",
        "outputId": "475d6254-ebd9-46b1-99c8-f0294e3c1dda"
      },
      "execution_count": null,
      "outputs": [
        {
          "output_type": "execute_result",
          "data": {
            "text/plain": [
              "(47, 3)"
            ]
          },
          "metadata": {},
          "execution_count": 2
        }
      ]
    },
    {
      "cell_type": "markdown",
      "source": [
        "Observe que há informações sobre o tamanho de cada imóvel, quantidade de quartos e preço."
      ],
      "metadata": {
        "id": "9SKrjTEiAXbi"
      }
    },
    {
      "cell_type": "code",
      "source": [
        "data.head()"
      ],
      "metadata": {
        "colab": {
          "base_uri": "https://localhost:8080/",
          "height": 206
        },
        "id": "LQZ8K3DNhBbM",
        "outputId": "26567c9f-a473-4aa0-ac75-dab5ae9b7384"
      },
      "execution_count": null,
      "outputs": [
        {
          "output_type": "execute_result",
          "data": {
            "text/plain": [
              "   Size   Bedrooms   Price\n",
              "0  2104          3  399900\n",
              "1  1600          3  329900\n",
              "2  2400          3  369000\n",
              "3  1416          2  232000\n",
              "4  3000          4  539900"
            ],
            "text/html": [
              "\n",
              "  <div id=\"df-9822b9b7-820c-4f3c-b5aa-722144bbe9e6\">\n",
              "    <div class=\"colab-df-container\">\n",
              "      <div>\n",
              "<style scoped>\n",
              "    .dataframe tbody tr th:only-of-type {\n",
              "        vertical-align: middle;\n",
              "    }\n",
              "\n",
              "    .dataframe tbody tr th {\n",
              "        vertical-align: top;\n",
              "    }\n",
              "\n",
              "    .dataframe thead th {\n",
              "        text-align: right;\n",
              "    }\n",
              "</style>\n",
              "<table border=\"1\" class=\"dataframe\">\n",
              "  <thead>\n",
              "    <tr style=\"text-align: right;\">\n",
              "      <th></th>\n",
              "      <th>Size</th>\n",
              "      <th>Bedrooms</th>\n",
              "      <th>Price</th>\n",
              "    </tr>\n",
              "  </thead>\n",
              "  <tbody>\n",
              "    <tr>\n",
              "      <th>0</th>\n",
              "      <td>2104</td>\n",
              "      <td>3</td>\n",
              "      <td>399900</td>\n",
              "    </tr>\n",
              "    <tr>\n",
              "      <th>1</th>\n",
              "      <td>1600</td>\n",
              "      <td>3</td>\n",
              "      <td>329900</td>\n",
              "    </tr>\n",
              "    <tr>\n",
              "      <th>2</th>\n",
              "      <td>2400</td>\n",
              "      <td>3</td>\n",
              "      <td>369000</td>\n",
              "    </tr>\n",
              "    <tr>\n",
              "      <th>3</th>\n",
              "      <td>1416</td>\n",
              "      <td>2</td>\n",
              "      <td>232000</td>\n",
              "    </tr>\n",
              "    <tr>\n",
              "      <th>4</th>\n",
              "      <td>3000</td>\n",
              "      <td>4</td>\n",
              "      <td>539900</td>\n",
              "    </tr>\n",
              "  </tbody>\n",
              "</table>\n",
              "</div>\n",
              "      <button class=\"colab-df-convert\" onclick=\"convertToInteractive('df-9822b9b7-820c-4f3c-b5aa-722144bbe9e6')\"\n",
              "              title=\"Convert this dataframe to an interactive table.\"\n",
              "              style=\"display:none;\">\n",
              "        \n",
              "  <svg xmlns=\"http://www.w3.org/2000/svg\" height=\"24px\"viewBox=\"0 0 24 24\"\n",
              "       width=\"24px\">\n",
              "    <path d=\"M0 0h24v24H0V0z\" fill=\"none\"/>\n",
              "    <path d=\"M18.56 5.44l.94 2.06.94-2.06 2.06-.94-2.06-.94-.94-2.06-.94 2.06-2.06.94zm-11 1L8.5 8.5l.94-2.06 2.06-.94-2.06-.94L8.5 2.5l-.94 2.06-2.06.94zm10 10l.94 2.06.94-2.06 2.06-.94-2.06-.94-.94-2.06-.94 2.06-2.06.94z\"/><path d=\"M17.41 7.96l-1.37-1.37c-.4-.4-.92-.59-1.43-.59-.52 0-1.04.2-1.43.59L10.3 9.45l-7.72 7.72c-.78.78-.78 2.05 0 2.83L4 21.41c.39.39.9.59 1.41.59.51 0 1.02-.2 1.41-.59l7.78-7.78 2.81-2.81c.8-.78.8-2.07 0-2.86zM5.41 20L4 18.59l7.72-7.72 1.47 1.35L5.41 20z\"/>\n",
              "  </svg>\n",
              "      </button>\n",
              "      \n",
              "  <style>\n",
              "    .colab-df-container {\n",
              "      display:flex;\n",
              "      flex-wrap:wrap;\n",
              "      gap: 12px;\n",
              "    }\n",
              "\n",
              "    .colab-df-convert {\n",
              "      background-color: #E8F0FE;\n",
              "      border: none;\n",
              "      border-radius: 50%;\n",
              "      cursor: pointer;\n",
              "      display: none;\n",
              "      fill: #1967D2;\n",
              "      height: 32px;\n",
              "      padding: 0 0 0 0;\n",
              "      width: 32px;\n",
              "    }\n",
              "\n",
              "    .colab-df-convert:hover {\n",
              "      background-color: #E2EBFA;\n",
              "      box-shadow: 0px 1px 2px rgba(60, 64, 67, 0.3), 0px 1px 3px 1px rgba(60, 64, 67, 0.15);\n",
              "      fill: #174EA6;\n",
              "    }\n",
              "\n",
              "    [theme=dark] .colab-df-convert {\n",
              "      background-color: #3B4455;\n",
              "      fill: #D2E3FC;\n",
              "    }\n",
              "\n",
              "    [theme=dark] .colab-df-convert:hover {\n",
              "      background-color: #434B5C;\n",
              "      box-shadow: 0px 1px 3px 1px rgba(0, 0, 0, 0.15);\n",
              "      filter: drop-shadow(0px 1px 2px rgba(0, 0, 0, 0.3));\n",
              "      fill: #FFFFFF;\n",
              "    }\n",
              "  </style>\n",
              "\n",
              "      <script>\n",
              "        const buttonEl =\n",
              "          document.querySelector('#df-9822b9b7-820c-4f3c-b5aa-722144bbe9e6 button.colab-df-convert');\n",
              "        buttonEl.style.display =\n",
              "          google.colab.kernel.accessAllowed ? 'block' : 'none';\n",
              "\n",
              "        async function convertToInteractive(key) {\n",
              "          const element = document.querySelector('#df-9822b9b7-820c-4f3c-b5aa-722144bbe9e6');\n",
              "          const dataTable =\n",
              "            await google.colab.kernel.invokeFunction('convertToInteractive',\n",
              "                                                     [key], {});\n",
              "          if (!dataTable) return;\n",
              "\n",
              "          const docLinkHtml = 'Like what you see? Visit the ' +\n",
              "            '<a target=\"_blank\" href=https://colab.research.google.com/notebooks/data_table.ipynb>data table notebook</a>'\n",
              "            + ' to learn more about interactive tables.';\n",
              "          element.innerHTML = '';\n",
              "          dataTable['output_type'] = 'display_data';\n",
              "          await google.colab.output.renderOutput(dataTable, element);\n",
              "          const docLink = document.createElement('div');\n",
              "          docLink.innerHTML = docLinkHtml;\n",
              "          element.appendChild(docLink);\n",
              "        }\n",
              "      </script>\n",
              "    </div>\n",
              "  </div>\n",
              "  "
            ]
          },
          "metadata": {},
          "execution_count": 3
        }
      ]
    },
    {
      "cell_type": "markdown",
      "source": [
        "Nessa situação, como o objetivo é realizar a implementação de Regressão Linear simples, desconsiderei as informações acerca da quantidade de quartos em cada imóvel. Dessa forma, iremos modelar a relação entre o tamanho e o preço dos imóveis nesse dataset."
      ],
      "metadata": {
        "id": "xdEQZki-Af9s"
      }
    },
    {
      "cell_type": "code",
      "source": [
        "data = data.drop(\" Bedrooms\", axis=1)\n",
        "data.head()"
      ],
      "metadata": {
        "colab": {
          "base_uri": "https://localhost:8080/",
          "height": 206
        },
        "id": "2xLq33G1Ku6K",
        "outputId": "c8905352-1ece-49fd-927a-e832e926b561"
      },
      "execution_count": null,
      "outputs": [
        {
          "output_type": "execute_result",
          "data": {
            "text/plain": [
              "   Size   Price\n",
              "0  2104  399900\n",
              "1  1600  329900\n",
              "2  2400  369000\n",
              "3  1416  232000\n",
              "4  3000  539900"
            ],
            "text/html": [
              "\n",
              "  <div id=\"df-d78f07af-e569-4caf-a188-f89263454937\">\n",
              "    <div class=\"colab-df-container\">\n",
              "      <div>\n",
              "<style scoped>\n",
              "    .dataframe tbody tr th:only-of-type {\n",
              "        vertical-align: middle;\n",
              "    }\n",
              "\n",
              "    .dataframe tbody tr th {\n",
              "        vertical-align: top;\n",
              "    }\n",
              "\n",
              "    .dataframe thead th {\n",
              "        text-align: right;\n",
              "    }\n",
              "</style>\n",
              "<table border=\"1\" class=\"dataframe\">\n",
              "  <thead>\n",
              "    <tr style=\"text-align: right;\">\n",
              "      <th></th>\n",
              "      <th>Size</th>\n",
              "      <th>Price</th>\n",
              "    </tr>\n",
              "  </thead>\n",
              "  <tbody>\n",
              "    <tr>\n",
              "      <th>0</th>\n",
              "      <td>2104</td>\n",
              "      <td>399900</td>\n",
              "    </tr>\n",
              "    <tr>\n",
              "      <th>1</th>\n",
              "      <td>1600</td>\n",
              "      <td>329900</td>\n",
              "    </tr>\n",
              "    <tr>\n",
              "      <th>2</th>\n",
              "      <td>2400</td>\n",
              "      <td>369000</td>\n",
              "    </tr>\n",
              "    <tr>\n",
              "      <th>3</th>\n",
              "      <td>1416</td>\n",
              "      <td>232000</td>\n",
              "    </tr>\n",
              "    <tr>\n",
              "      <th>4</th>\n",
              "      <td>3000</td>\n",
              "      <td>539900</td>\n",
              "    </tr>\n",
              "  </tbody>\n",
              "</table>\n",
              "</div>\n",
              "      <button class=\"colab-df-convert\" onclick=\"convertToInteractive('df-d78f07af-e569-4caf-a188-f89263454937')\"\n",
              "              title=\"Convert this dataframe to an interactive table.\"\n",
              "              style=\"display:none;\">\n",
              "        \n",
              "  <svg xmlns=\"http://www.w3.org/2000/svg\" height=\"24px\"viewBox=\"0 0 24 24\"\n",
              "       width=\"24px\">\n",
              "    <path d=\"M0 0h24v24H0V0z\" fill=\"none\"/>\n",
              "    <path d=\"M18.56 5.44l.94 2.06.94-2.06 2.06-.94-2.06-.94-.94-2.06-.94 2.06-2.06.94zm-11 1L8.5 8.5l.94-2.06 2.06-.94-2.06-.94L8.5 2.5l-.94 2.06-2.06.94zm10 10l.94 2.06.94-2.06 2.06-.94-2.06-.94-.94-2.06-.94 2.06-2.06.94z\"/><path d=\"M17.41 7.96l-1.37-1.37c-.4-.4-.92-.59-1.43-.59-.52 0-1.04.2-1.43.59L10.3 9.45l-7.72 7.72c-.78.78-.78 2.05 0 2.83L4 21.41c.39.39.9.59 1.41.59.51 0 1.02-.2 1.41-.59l7.78-7.78 2.81-2.81c.8-.78.8-2.07 0-2.86zM5.41 20L4 18.59l7.72-7.72 1.47 1.35L5.41 20z\"/>\n",
              "  </svg>\n",
              "      </button>\n",
              "      \n",
              "  <style>\n",
              "    .colab-df-container {\n",
              "      display:flex;\n",
              "      flex-wrap:wrap;\n",
              "      gap: 12px;\n",
              "    }\n",
              "\n",
              "    .colab-df-convert {\n",
              "      background-color: #E8F0FE;\n",
              "      border: none;\n",
              "      border-radius: 50%;\n",
              "      cursor: pointer;\n",
              "      display: none;\n",
              "      fill: #1967D2;\n",
              "      height: 32px;\n",
              "      padding: 0 0 0 0;\n",
              "      width: 32px;\n",
              "    }\n",
              "\n",
              "    .colab-df-convert:hover {\n",
              "      background-color: #E2EBFA;\n",
              "      box-shadow: 0px 1px 2px rgba(60, 64, 67, 0.3), 0px 1px 3px 1px rgba(60, 64, 67, 0.15);\n",
              "      fill: #174EA6;\n",
              "    }\n",
              "\n",
              "    [theme=dark] .colab-df-convert {\n",
              "      background-color: #3B4455;\n",
              "      fill: #D2E3FC;\n",
              "    }\n",
              "\n",
              "    [theme=dark] .colab-df-convert:hover {\n",
              "      background-color: #434B5C;\n",
              "      box-shadow: 0px 1px 3px 1px rgba(0, 0, 0, 0.15);\n",
              "      filter: drop-shadow(0px 1px 2px rgba(0, 0, 0, 0.3));\n",
              "      fill: #FFFFFF;\n",
              "    }\n",
              "  </style>\n",
              "\n",
              "      <script>\n",
              "        const buttonEl =\n",
              "          document.querySelector('#df-d78f07af-e569-4caf-a188-f89263454937 button.colab-df-convert');\n",
              "        buttonEl.style.display =\n",
              "          google.colab.kernel.accessAllowed ? 'block' : 'none';\n",
              "\n",
              "        async function convertToInteractive(key) {\n",
              "          const element = document.querySelector('#df-d78f07af-e569-4caf-a188-f89263454937');\n",
              "          const dataTable =\n",
              "            await google.colab.kernel.invokeFunction('convertToInteractive',\n",
              "                                                     [key], {});\n",
              "          if (!dataTable) return;\n",
              "\n",
              "          const docLinkHtml = 'Like what you see? Visit the ' +\n",
              "            '<a target=\"_blank\" href=https://colab.research.google.com/notebooks/data_table.ipynb>data table notebook</a>'\n",
              "            + ' to learn more about interactive tables.';\n",
              "          element.innerHTML = '';\n",
              "          dataTable['output_type'] = 'display_data';\n",
              "          await google.colab.output.renderOutput(dataTable, element);\n",
              "          const docLink = document.createElement('div');\n",
              "          docLink.innerHTML = docLinkHtml;\n",
              "          element.appendChild(docLink);\n",
              "        }\n",
              "      </script>\n",
              "    </div>\n",
              "  </div>\n",
              "  "
            ]
          },
          "metadata": {},
          "execution_count": 4
        }
      ]
    },
    {
      "cell_type": "markdown",
      "source": [
        "## **Natureza da Relação entre as variáveis independentes** $x_i$ **e** $y_i$**:**"
      ],
      "metadata": {
        "id": "-ZnTInK8DnQ9"
      }
    },
    {
      "cell_type": "markdown",
      "source": [
        "Primeiramente, antes de aplicarmos esse tipo de Regressão para modelarmos a relação que existe entre a área e o preço desses imóveis, é importante termos noção se, nos dados existentes, é possível identificar uma relação linear entre esses dados. Para isso, para cada $\\text{exemplo}_i$ presente no conjunto de dados, com $i = 1, \\ldots, N = 1, \\ldots, 47$, vamos plotar o par de dados $(\\text{Área}_i,\\text{Preço}_i) = (x_i, y_i)$:"
      ],
      "metadata": {
        "id": "SWtuqCQnCCwf"
      }
    },
    {
      "cell_type": "code",
      "source": [
        "figure = plt.figure(figsize=(8,6))\n",
        "_ = plt.scatter(data[\"Size\"], data[\" Price\"])\n",
        "_ = plt.xlabel(\"Área (ft²)\")\n",
        "_ = plt.ylabel(\"Preço ($)\")\n",
        "_ = plt.title(\"Preço x Área\")"
      ],
      "metadata": {
        "colab": {
          "base_uri": "https://localhost:8080/",
          "height": 407
        },
        "id": "ai4JdmHZRQR1",
        "outputId": "be9ffb54-cb0c-4440-86c9-9c14cf560e6a"
      },
      "execution_count": null,
      "outputs": [
        {
          "output_type": "display_data",
          "data": {
            "text/plain": [
              "<Figure size 576x432 with 1 Axes>"
            ],
            "image/png": "[encoded data removed]"
          },
          "metadata": {
            "needs_background": "light"
          }
        }
      ]
    },
    {
      "cell_type": "markdown",
      "source": [
        "A partir desse gráfico, é evidente a natureza linear da relação entre os dados de entrada e saída da função $f$ que queremos aproximar. Portanto, prosseguiremos com o projeto de implementação de Regressão Linear."
      ],
      "metadata": {
        "id": "uNqgAeuvDL9-"
      }
    },
    {
      "cell_type": "markdown",
      "source": [
        "## **Implementação**"
      ],
      "metadata": {
        "id": "zWUd46qFppZ4"
      }
    },
    {
      "cell_type": "markdown",
      "source": [
        "Aqui, atribuímos às variáveis ${\\tt X}$ e ${\\tt Y}$, respectivamente o conjunto das Áreas e Preços presentes no conjunto de dados."
      ],
      "metadata": {
        "id": "hTV2YoT3tdOH"
      }
    },
    {
      "cell_type": "code",
      "source": [
        "data = np.array(data)\n",
        "X = np.array(data[:,0])\n",
        "Y = np.array(data[:,1])\n",
        "print(f\"formato de X: {X.shape}\")\n",
        "print(f\"formato de Y: {Y.shape}\")"
      ],
      "metadata": {
        "colab": {
          "base_uri": "https://localhost:8080/"
        },
        "id": "Djc7x3d0TW93",
        "outputId": "5396535a-3ab0-415b-f8c7-1cd4bc3030bb"
      },
      "execution_count": null,
      "outputs": [
        {
          "output_type": "stream",
          "name": "stdout",
          "text": [
            "formato de X: (47,)\n",
            "formato de Y: (47,)\n"
          ]
        }
      ]
    },
    {
      "cell_type": "code",
      "source": [
        "print(X)\n",
        "print(Y)"
      ],
      "metadata": {
        "colab": {
          "base_uri": "https://localhost:8080/"
        },
        "id": "U3PuubebfH-r",
        "outputId": "e553d84f-9bdb-4ad5-ca33-20fb78d3eea2"
      },
      "execution_count": null,
      "outputs": [
        {
          "output_type": "stream",
          "name": "stdout",
          "text": [
            "[2104 1600 2400 1416 3000 1985 1534 1427 1380 1494 1940 2000 1890 4478\n",
            " 1268 2300 1320 1236 2609 3031 1767 1888 1604 1962 3890 1100 1458 2526\n",
            " 2200 2637 1839 1000 2040 3137 1811 1437 1239 2132 4215 2162 1664 2238\n",
            " 2567 1200  852 1852 1203]\n",
            "[399900 329900 369000 232000 539900 299900 314900 198999 212000 242500\n",
            " 239999 347000 329999 699900 259900 449900 299900 199900 499998 599000\n",
            " 252900 255000 242900 259900 573900 249900 464500 469000 475000 299900\n",
            " 349900 169900 314900 579900 285900 249900 229900 345000 549000 287000\n",
            " 368500 329900 314000 299000 179900 299900 239500]\n"
          ]
        }
      ]
    },
    {
      "cell_type": "markdown",
      "source": [
        "### **Normalização dos Dados:**"
      ],
      "metadata": {
        "id": "gdGBBtMSD5H6"
      }
    },
    {
      "cell_type": "markdown",
      "source": [
        "Nessa etapa do projeto, efetuamos a normalização dos dados com os quais alimentaremos o modelo de Machine Learning."
      ],
      "metadata": {
        "id": "ciGCjBcr0MV2"
      }
    },
    {
      "cell_type": "markdown",
      "source": [
        "Nesse sentido, primeiro vamos introduzir esse conceito e explicar o motivo por o utilizarmos.\n",
        "\n",
        "* **O que é normalização?**\n",
        "\n",
        "        O tipo de normalização que utilizaremos nessa implementação é chamado \n",
        "        \"Normalização Z\". Para cada dado do conjunto a ser normalizado, \n",
        "        efetuamos a seguinte transformação:\n",
        "        \n",
        "$$x_i^{(normalizado)} = \\dfrac{x_i - \\mu}{\\sigma} \\\\\n",
        "\\text{Sendo } \\mu \\text{ a média do conjunto de dados e } \\sigma \\text{ seu desvio padrão}$$\n",
        "\n",
        "* **Por que a utilizamos?**\n",
        "  \n",
        "        Ao efeturarmos essa transformação, nós fazemos com que a média dos \n",
        "        dados se torne 0 e o desvio padrão 1. \n",
        "        \n",
        "        Em teoria, modelos de regressão (ou redes neurais) não deveriam ser \n",
        "        sensíveis à normalizações, tendo e vista que o vetor deveria ser \n",
        "        capaz de ser atualizado de modo a anular o efeito dessa transformação \n",
        "        linear nos dados de entrada. \n",
        "        \n",
        "        Contudo, ao normalizarmos os dados, conseguimos aumentar a \n",
        "        estabilidade numérica envolvida na otimização do modelo. Isso ocorre \n",
        "        porque, durante a atualização dos parâmetros, o valor das variáveis \n",
        "        independentes influenciam o tamanho dos passos na descida do \n",
        "        gradiente; como pode ser observado na expressão.\n",
        "\n",
        "        Por isso, se tais valores são grandes, é mais provável que a função \n",
        "        de perda tenha mais dificuldade para convergir.\n",
        "\n",
        "\n",
        "$$\n",
        "w_k(t+1) \\leftarrow w_k(t) - \\eta \\left(\\frac{2}{N}\\sum^N_{i=1} (y_i - \\hat{y}_i)x_{ik}\\right)\n",
        "$$"
      ],
      "metadata": {
        "id": "-6ZXq2Yq0VMW"
      }
    },
    {
      "cell_type": "code",
      "source": [
        "def normalize(X):\n",
        "    X = (X - X.mean(axis=0))/X.std(axis=0)    \n",
        "    return X\n",
        "\n",
        "X_normalizado = normalize(X)\n",
        "Y_normalizado = normalize(Y)\n"
      ],
      "metadata": {
        "id": "aE1XO3Dk8EgU"
      },
      "execution_count": null,
      "outputs": []
    },
    {
      "cell_type": "code",
      "source": [
        "figure = plt.figure(figsize=(8,6))\n",
        "_ = plt.scatter(X_normalizado, Y_normalizado)\n",
        "_ = plt.xlabel(\"Área\")\n",
        "_ = plt.ylabel(\"Preço ($)\")\n",
        "_ = plt.title(\"Preço x Área\")"
      ],
      "metadata": {
        "colab": {
          "base_uri": "https://localhost:8080/",
          "height": 406
        },
        "id": "2W3uhw0H8thp",
        "outputId": "67488251-102d-4808-8002-56787cb0bf73"
      },
      "execution_count": null,
      "outputs": [
        {
          "output_type": "display_data",
          "data": {
            "text/plain": [
              "<Figure size 576x432 with 1 Axes>"
            ],
            "image/png": "[encoded data removed]"
          },
          "metadata": {
            "needs_background": "light"
          }
        }
      ]
    },
    {
      "cell_type": "markdown",
      "source": [
        "### **Tratamento dos dados:**"
      ],
      "metadata": {
        "id": "XJUJMFsUqUUu"
      }
    },
    {
      "cell_type": "markdown",
      "source": [
        "Com o método ${\\tt ajeita\\_dados(X, Y)}$, estamos tratando os dados. Isto é, deixando cada exemplo $(x_i, y_i)$ da maneira definida na seção de regressão Linear no texto Fundamentos de Redes Neurais. \n",
        "\n",
        "Dessa forma, transformamos cada valor de $\\text{Área}_i$ em um vetor coluna tal que $x_i$ se torna $\\textbf{x}_i = \\begin{bmatrix}1 \\\\\n",
        "x_i \\end{bmatrix} = \\begin{bmatrix}1 \\\\\n",
        "\\text{Área}_i \\end{bmatrix}$ \n",
        "\n",
        "e cada valor de $\\text{Preço}_i = y_i$ se torna uma matriz $1 \\times 1$. Isso é feito por causa de particularidades da implementação advindas do uso da biblioteca Numpy."
      ],
      "metadata": {
        "id": "L_5m4ZPIoemV"
      }
    },
    {
      "cell_type": "code",
      "source": [
        "def ajeita_dados(X, Y):\n",
        "  novo_X = []\n",
        "  novo_Y = []\n",
        "  for i in range(len(X)):\n",
        "    aux = np.insert(np.array(X[i]), 0, 1)\n",
        "    aux = np.reshape(aux, (2,1))\n",
        "    novo_X.append(aux)\n",
        "    novo_Y.append(np.array([[Y[i]]]))\n",
        "  return np.array(novo_X), np.array(novo_Y)"
      ],
      "metadata": {
        "id": "UUxIfWHSdDad"
      },
      "execution_count": null,
      "outputs": []
    },
    {
      "cell_type": "code",
      "source": [
        "X_util,Y_util = ajeita_dados(X_normalizado,Y_normalizado)"
      ],
      "metadata": {
        "id": "-IUtxTpIeS87"
      },
      "execution_count": null,
      "outputs": []
    },
    {
      "cell_type": "markdown",
      "source": [
        "### **Treinamento:**"
      ],
      "metadata": {
        "id": "lVF9rsjpBzV9"
      }
    },
    {
      "cell_type": "markdown",
      "source": [
        "Nessa próxima célula, está o coração da implementação da Regressão Linear, é nela que treinamos o modelo.\n",
        "\n",
        "Para isso, definimos o método ${\\tt gradiente\\_descendente(w, X, Y)}$. Nele, calculamos o gradiente da função de perda (erro quadrático médio), que é representado por ${\\tt dw}$ no código e atualizamos o vetor de pesos $\\textbf{w} = \\begin{bmatrix} w_0 \\\\ w_1\\end{bmatrix}$."
      ],
      "metadata": {
        "id": "zJ59Hl0eE7Q1"
      }
    },
    {
      "cell_type": "code",
      "source": [
        "def mse(y, y_hat):\n",
        "  return (y - y_hat)**2\n",
        "\n",
        "def init_params():\n",
        "  w = np.zeros(shape=(2,1))\n",
        "  return w\n",
        "\n",
        "def gradiente_descendente(w, X, Y):\n",
        "  dw = np.array([[0.], [0.]])\n",
        "  N = len(X)\n",
        "  for i in range(N):\n",
        "      dw += (np.dot(w.T, X[i]) - Y[i])*X[i]\n",
        "  return dw/N*2\n",
        "\n",
        "def update_params(w, dw, eta):\n",
        "  return w - (eta * (dw/np.linalg.norm(dw)))\n",
        "\n",
        "def treinamento(epochs, X, Y, eta):\n",
        "  w = init_params()\n",
        "  for epoch in range(epochs):\n",
        "    if epoch % 10 == 0: print(epoch)\n",
        "    dw = gradiente_descendente(w, X, Y)\n",
        "    w = update_params(w, dw, eta)\n",
        "  return w"
      ],
      "metadata": {
        "id": "DFolermYTRAP"
      },
      "execution_count": null,
      "outputs": []
    },
    {
      "cell_type": "markdown",
      "source": [
        "Na chamada do método ${\\tt treinamento(epochs, X, Y, eta)}$, definimos quantas vezes o modelo será atualizado (${\\tt epochs}$), mandamos o conjunto de dados (${\\tt X\\_util}$ e ${\\tt Y\\_util}$) = ($\\mathbf{\\tilde{X}}$ e $\\mathbf{y}$) e definimos, também, o valor da taxa de aprendizado ($\\eta = {\\tt eta}$).\n",
        "\n",
        "Depois das iterações, esse método retorna o último valor do vetor de pesos $\\textbf{w}$."
      ],
      "metadata": {
        "id": "9YuFG8ztE9XV"
      }
    },
    {
      "cell_type": "code",
      "source": [
        "print(f\"X: {X_util.shape}  ;;  X[0]: {X_util[0].shape}  ;;  Y: {Y_util.shape}  ;;  Y[0]: {Y_util[0].shape}\")\n",
        "w = treinamento(100, X_util, Y_util, 0.1)\n",
        "print(w)"
      ],
      "metadata": {
        "colab": {
          "base_uri": "https://localhost:8080/"
        },
        "id": "aWmW1-vH_TPf",
        "outputId": "0391a120-f105-4e3d-adbd-0931042ecc3e"
      },
      "execution_count": null,
      "outputs": [
        {
          "output_type": "stream",
          "name": "stdout",
          "text": [
            "X: (47, 2, 1)  ;;  X[0]: (2, 1)  ;;  Y: (47, 1, 1)  ;;  Y[0]: (1, 1)\n",
            "0\n",
            "10\n",
            "20\n",
            "30\n",
            "40\n",
            "50\n",
            "60\n",
            "70\n",
            "80\n",
            "90\n",
            "[[-1.83311582e-16]\n",
            " [ 8.00000000e-01]]\n"
          ]
        }
      ]
    },
    {
      "cell_type": "markdown",
      "source": [
        "Por fim, produzimos a função linear $h(\\textbf{x}_i) = w_0 + w_1x_i$ e a plotamos no gráfico contendo os valores normalizados de cada par de dados $(x_i, y_i)$."
      ],
      "metadata": {
        "id": "OF6cvuJSE_rn"
      }
    },
    {
      "cell_type": "code",
      "source": [
        "limSup = np.ceil(np.amax(X_normalizado))\n",
        "limInf = np.floor(np.amin(X_normalizado))\n",
        "x = np.linspace(limInf, limSup, 100)\n",
        "y = x*w[1] + w[0]\n",
        "_ = plt.scatter(X_normalizado, Y_normalizado)\n",
        "_ = plt.plot(x, y, 'red')"
      ],
      "metadata": {
        "colab": {
          "base_uri": "https://localhost:8080/",
          "height": 265
        },
        "id": "0s3scKWHVlw1",
        "outputId": "50784295-3c31-47b8-ab57-1b77fbf54d86"
      },
      "execution_count": null,
      "outputs": [
        {
          "output_type": "display_data",
          "data": {
            "text/plain": [
              "<Figure size 432x288 with 1 Axes>"
            ],
            "image/png": "[encoded data removed]"
          },
          "metadata": {
            "needs_background": "light"
          }
        }
      ]
    },
    {
      "cell_type": "markdown",
      "source": [
        "### **Testando o modelo obtido:**"
      ],
      "metadata": {
        "id": "htQsvrfHFAWG"
      }
    },
    {
      "cell_type": "markdown",
      "source": [
        "Depois de efetuarmos a Regressão Linear, podemos prever o valor do preço de um imóvel dado a sua área. Dessa forma, considere que tenhamos um imóvel de $1500\\text{ft}^2 ≈ 139\\text{m}^2$. De acordo com nosso modelo, levando em conta os dados imobiliários de Oregon, quanto ele custaria?"
      ],
      "metadata": {
        "id": "8XvJmrFWyiJq"
      }
    },
    {
      "cell_type": "markdown",
      "source": [
        "Primeiramente, vamos normalizar esse valor de acordo com os dados que possuímos:"
      ],
      "metadata": {
        "id": "-ONytljEzZp5"
      }
    },
    {
      "cell_type": "code",
      "source": [
        "x_teste = 1500\n",
        "x_teste_normalizado = (x_teste - X.mean(axis=0))/X.std(axis=0)    "
      ],
      "metadata": {
        "id": "WOd_NN39zjY3"
      },
      "execution_count": null,
      "outputs": []
    },
    {
      "cell_type": "markdown",
      "source": [
        "Depois, rodamos o modelo para obter um valor (normalizado) de preço:"
      ],
      "metadata": {
        "id": "jhkrLYgWzkAg"
      }
    },
    {
      "cell_type": "code",
      "source": [
        "y_teste_normalizado = x_teste_normalizado*(w[1].item()) + (w[0].item())"
      ],
      "metadata": {
        "id": "Ol_QyOIgzpMf"
      },
      "execution_count": null,
      "outputs": []
    },
    {
      "cell_type": "markdown",
      "source": [
        "Agora, desnormalizamos esse valor de preço para obter um valor em dólar ($):"
      ],
      "metadata": {
        "id": "W48MKo1Dzply"
      }
    },
    {
      "cell_type": "code",
      "source": [
        "y_teste = (y_teste_normalizado*Y.std(axis=0)) + Y.mean(axis=0)"
      ],
      "metadata": {
        "id": "yaZi73aM8POE"
      },
      "execution_count": null,
      "outputs": []
    },
    {
      "cell_type": "code",
      "source": [
        "print(f\"Portanto, de acordo com o modelo, um imóvel de {x_teste}ft² custaria ${y_teste:.2f}\")"
      ],
      "metadata": {
        "colab": {
          "base_uri": "https://localhost:8080/"
        },
        "id": "Dc_GmlX6z24r",
        "outputId": "2ca10eb0-0d84-4c03-c853-49087ce66c78"
      },
      "execution_count": null,
      "outputs": [
        {
          "output_type": "stream",
          "name": "stdout",
          "text": [
            "Portanto, de acordo com o modelo, um imóvel de 1500ft² custaria $277390.24\n"
          ]
        }
      ]
    },
    {
      "cell_type": "code",
      "source": [
        "figure = plt.figure(figsize=(8,6))\n",
        "_ = plt.scatter(X, Y)\n",
        "_ = plt.plot(x_teste, y_teste, \"o\", color=\"red\", markersize=9)\n",
        "_ = plt.xlabel(\"Área (ft²)\")\n",
        "_ = plt.ylabel(\"Preço ($)\")\n",
        "_ = plt.title(\"Preço x Área\")"
      ],
      "metadata": {
        "colab": {
          "base_uri": "https://localhost:8080/",
          "height": 407
        },
        "id": "SDY8kWXB-n9d",
        "outputId": "6f0d03dc-b8df-4e04-c433-a44c7d0eb438"
      },
      "execution_count": null,
      "outputs": [
        {
          "output_type": "display_data",
          "data": {
            "text/plain": [
              "<Figure size 576x432 with 1 Axes>"
            ],
            "image/png": "[encoded data removed]"
          },
          "metadata": {
            "needs_background": "light"
          }
        }
      ]
    }
  ]
}